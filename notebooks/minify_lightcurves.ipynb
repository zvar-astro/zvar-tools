{
 "cells": [
  {
   "cell_type": "code",
   "execution_count": 1,
   "metadata": {},
   "outputs": [
    {
     "name": "stderr",
     "output_type": "stream",
     "text": [
      "/Users/theodlz/projects/ZVAR-Utilities/env/lib/python3.10/site-packages/tqdm/auto.py:21: TqdmWarning: IProgress not found. Please update jupyter and ipywidgets. See https://ipywidgets.readthedocs.io/en/stable/user_install.html\n",
      "  from .autonotebook import tqdm as notebook_tqdm\n"
     ]
    }
   ],
   "source": [
    "import sys\n",
    "\n",
    "sys.path.append(\"..\")\n",
    "import glob\n",
    "\n",
    "from zvar_utils.candidate import import_from_parquet, VariabilityCandidate\n",
    "from zvar_utils.lightcurves import minify_lightcurve"
   ]
  },
  {
   "cell_type": "code",
   "execution_count": 2,
   "metadata": {},
   "outputs": [],
   "source": [
    "path_candidates = \"../data/variability_candidates\"\n",
    "path_lc = \"../data/zvar/lc\"\n",
    "out_dir_lc = \"../data/zvar/lc_minified\""
   ]
  },
  {
   "cell_type": "code",
   "execution_count": 3,
   "metadata": {},
   "outputs": [
    {
     "name": "stdout",
     "output_type": "stream",
     "text": [
      "Field 0648, CCD 3, Quad 2 has 144933586484299537\n",
      "Field 0648, CCD 10, Quad 3 has 148250011324864469\n",
      "Field 0648, CCD 9, Quad 2 has 149280032410535655\n"
     ]
    }
   ],
   "source": [
    "bands = [\"r\", \"g\"]\n",
    "fields = [648]\n",
    "candidate_list: list[VariabilityCandidate] = []\n",
    "for field in fields:\n",
    "    for band in bands:\n",
    "        for file in glob.glob(\n",
    "            f\"{path_candidates}/{field:04d}/*_z{band}.parquet\", recursive=True\n",
    "        ):\n",
    "            candidate_list.extend(import_from_parquet(file))\n",
    "\n",
    "# check that all the candidates have field, ccd, quad info\n",
    "for candidate in candidate_list:\n",
    "    if not candidate.field:\n",
    "        print(candidate)\n",
    "        raise ValueError(\"field not found\")\n",
    "    if not candidate.ccd:\n",
    "        print(candidate)\n",
    "        raise ValueError(\"ccd not found\")\n",
    "    if not candidate.quad:\n",
    "        print(candidate)\n",
    "        raise ValueError(\"quad not found\")\n",
    "\n",
    "# now groub them by field, ccd, quad\n",
    "grouped_candidates: dict[tuple[int, int, int], list[VariabilityCandidate]] = {}\n",
    "for candidate in candidate_list:\n",
    "    key = (candidate.field, candidate.ccd, candidate.quad)\n",
    "    if key not in grouped_candidates:\n",
    "        grouped_candidates[key] = []\n",
    "    grouped_candidates[key].append(candidate)\n",
    "\n",
    "# now for each group, minify the associated lightcurve file(s)\n",
    "for key, cands in grouped_candidates.items():\n",
    "    field, ccd, quad = key\n",
    "    psids = [c.psid for c in cands]\n",
    "    if 144933586484299537 in psids:\n",
    "        print(f\"Field {field:04d}, CCD {ccd}, Quad {quad} has 144933586484299537\")\n",
    "        # check if 148250011324864469 is also in there\n",
    "    if 148250011324864469 in psids:\n",
    "        print(f\"Field {field:04d}, CCD {ccd}, Quad {quad} has 148250011324864469\")\n",
    "    # check if 149280032410535655 is also in there\n",
    "    if 149280032410535655 in psids:\n",
    "        print(f\"Field {field:04d}, CCD {ccd}, Quad {quad} has 149280032410535655\")\n",
    "    minify_lightcurve(\n",
    "        field, ccd, quad, bands, psids, path_lc, out_dir_lc, delete_existing=True\n",
    "    )"
   ]
  },
  {
   "cell_type": "code",
   "execution_count": null,
   "metadata": {},
   "outputs": [],
   "source": []
  }
 ],
 "metadata": {
  "kernelspec": {
   "display_name": "env",
   "language": "python",
   "name": "python3"
  },
  "language_info": {
   "codemirror_mode": {
    "name": "ipython",
    "version": 3
   },
   "file_extension": ".py",
   "mimetype": "text/x-python",
   "name": "python",
   "nbconvert_exporter": "python",
   "pygments_lexer": "ipython3",
   "version": "3.10.15"
  }
 },
 "nbformat": 4,
 "nbformat_minor": 2
}
